{
 "cells": [
  {
   "cell_type": "markdown",
   "id": "f3f9f1d2",
   "metadata": {},
   "source": [
    "# Mobile Apps Analysis\n",
    "\n",
    "The goal of this project is to help developers understand what attracts users to particular free apps to aid in developing more appealing apps. We will use a dataset of more than 7,000 apps from the Apple App Store in 2017 (iOS apps) and more than 10,000 apps from the Google Play Store in 2018 (Android apps)."
   ]
  },
  {
   "cell_type": "code",
   "execution_count": 43,
   "id": "e8b387f7",
   "metadata": {
    "scrolled": true
   },
   "outputs": [
    {
     "name": "stdout",
     "output_type": "stream",
     "text": [
      "Apple Store Dataset\n",
      "['', 'id', 'track_name', 'size_bytes', 'currency', 'price', 'rating_count_tot', 'rating_count_ver', 'user_rating', 'user_rating_ver', 'ver', 'cont_rating', 'prime_genre', 'sup_devices.num', 'ipadSc_urls.num', 'lang.num', 'vpp_lic']\n",
      "\n",
      "\n",
      "['1', '281656475', 'PAC-MAN Premium', '100788224', 'USD', '3.99', '21292', '26', '4', '4.5', '6.3.5', '4+', 'Games', '38', '5', '10', '1']\n",
      "\n",
      "\n",
      "['2', '281796108', 'Evernote - stay organized', '158578688', 'USD', '0', '161065', '26', '4', '3.5', '8.2.2', '4+', 'Productivity', '37', '5', '23', '1']\n",
      "\n",
      "\n",
      "['3', '281940292', 'WeatherBug - Local Weather, Radar, Maps, Alerts', '100524032', 'USD', '0', '188583', '2822', '3.5', '4.5', '5.0.0', '4+', 'Weather', '37', '5', '3', '1']\n",
      "\n",
      "\n",
      "Number of rows: 7197\n",
      "Number of columns: 17\n",
      "\n",
      "\n",
      "Google Play Dataset\n",
      "['App', 'Category', 'Rating', 'Reviews', 'Size', 'Installs', 'Type', 'Price', 'Content Rating', 'Genres', 'Last Updated', 'Current Ver', 'Android Ver']\n",
      "\n",
      "\n",
      "['Photo Editor & Candy Camera & Grid & ScrapBook', 'ART_AND_DESIGN', '4.1', '159', '19M', '10,000+', 'Free', '0', 'Everyone', 'Art & Design', 'January 7, 2018', '1.0.0', '4.0.3 and up']\n",
      "\n",
      "\n",
      "['Coloring book moana', 'ART_AND_DESIGN', '3.9', '967', '14M', '500,000+', 'Free', '0', 'Everyone', 'Art & Design;Pretend Play', 'January 15, 2018', '2.0.0', '4.0.3 and up']\n",
      "\n",
      "\n",
      "['U Launcher Lite – FREE Live Cool Themes, Hide Apps', 'ART_AND_DESIGN', '4.7', '87510', '8.7M', '5,000,000+', 'Free', '0', 'Everyone', 'Art & Design', 'August 1, 2018', '1.2.4', '4.0.3 and up']\n",
      "\n",
      "\n",
      "Number of rows: 10841\n",
      "Number of columns: 13\n"
     ]
    }
   ],
   "source": [
    "#Function to read a csv and make it into a list of lists\n",
    "def open_file(file_name):\n",
    "    opened_file = open(file_name, encoding = 'utf8')\n",
    "    from csv import reader\n",
    "    read_file = reader(opened_file)\n",
    "    data = list(read_file)\n",
    "    return data\n",
    "\n",
    "#Function to neatly print a few rows of a dataset to examine it\n",
    "def explore_data(dataset, start, end, rows_and_columns=False):\n",
    "    dataset_slice = dataset[start:end]    \n",
    "    for row in dataset_slice:\n",
    "        print(row)\n",
    "        print('\\n') # adds a new (empty) line after each row\n",
    "\n",
    "    if rows_and_columns:\n",
    "        print('Number of rows:', len(dataset))\n",
    "        print('Number of columns:', len(dataset[0]))\n",
    "        \n",
    "#Reading in the Apple Store and Google Play datasets\n",
    "apple = open_file(\"AppleStore.csv\")\n",
    "google = open_file(\"googleplaystore.csv\")\n",
    "#Removing header rows\n",
    "apple_header = apple[0]\n",
    "apple = apple[1:]\n",
    "google_header = google[0]\n",
    "google = google[1:]\n",
    "\n",
    "#Exploring the two datasets\n",
    "print(\"Apple Store Dataset\")\n",
    "print(apple_header)\n",
    "print(\"\\n\")\n",
    "explore_data(apple, 0, 3, rows_and_columns = True)\n",
    "print(\"\\n\")\n",
    "print(\"Google Play Dataset\")\n",
    "print(google_header)\n",
    "print(\"\\n\")\n",
    "explore_data(google, 0, 3, rows_and_columns = True)"
   ]
  },
  {
   "cell_type": "markdown",
   "id": "68fcab77",
   "metadata": {},
   "source": [
    "## Documentation\n",
    "The code below prints out the column names for both of the datasets. For detailed documentation for the Apple Store dataset, see [this link](https://www.kaggle.com/ramamet4/app-store-apple-data-set-10k-apps); for the Google Play dataset, see [this link](https://www.kaggle.com/lava18/google-play-store-apps)."
   ]
  },
  {
   "cell_type": "code",
   "execution_count": 44,
   "id": "db25486a",
   "metadata": {
    "scrolled": true
   },
   "outputs": [
    {
     "name": "stdout",
     "output_type": "stream",
     "text": [
      "Apple Store dataset columns\n",
      "['', 'id', 'track_name', 'size_bytes', 'currency', 'price', 'rating_count_tot', 'rating_count_ver', 'user_rating', 'user_rating_ver', 'ver', 'cont_rating', 'prime_genre', 'sup_devices.num', 'ipadSc_urls.num', 'lang.num', 'vpp_lic']\n",
      "\n",
      "\n",
      "Google Play dataset columns\n",
      "['App', 'Category', 'Rating', 'Reviews', 'Size', 'Installs', 'Type', 'Price', 'Content Rating', 'Genres', 'Last Updated', 'Current Ver', 'Android Ver']\n"
     ]
    }
   ],
   "source": [
    "#Printing the column names\n",
    "print(\"Apple Store dataset columns\")\n",
    "print(apple_header)\n",
    "print(\"\\n\")\n",
    "print(\"Google Play dataset columns\")\n",
    "print(google_header)"
   ]
  },
  {
   "cell_type": "markdown",
   "id": "3b38bccf",
   "metadata": {},
   "source": [
    "## Data Cleaning and Preparation"
   ]
  },
  {
   "cell_type": "markdown",
   "id": "d68b48ff",
   "metadata": {},
   "source": [
    "### Removing incorrect row"
   ]
  },
  {
   "cell_type": "code",
   "execution_count": 45,
   "id": "c9ba46a4",
   "metadata": {
    "scrolled": true
   },
   "outputs": [
    {
     "name": "stdout",
     "output_type": "stream",
     "text": [
      "['Life Made WI-Fi Touchscreen Photo Frame', '1.9', '19', '3.0M', '1,000+', 'Free', '0', 'Everyone', '', 'February 11, 2018', '1.0.19', '4.0 and up']\n",
      "12\n",
      "13\n"
     ]
    }
   ],
   "source": [
    "#Removing row with missing column\n",
    "print(google[10472])\n",
    "print(len(google[10472]))\n",
    "#Length of correct rows\n",
    "print(len(google[10471]))\n",
    "del google[10472]"
   ]
  },
  {
   "cell_type": "markdown",
   "id": "24bd5125",
   "metadata": {},
   "source": [
    "### Removing duplicate rows\n",
    "The Google Play dataset has some duplicate apps as can be seen below. We will remove duplicated rows, only keeping the row for each app name which has the highest number of reviews. This row should be the most recently collected."
   ]
  },
  {
   "cell_type": "code",
   "execution_count": 46,
   "id": "35dddfd5",
   "metadata": {},
   "outputs": [
    {
     "name": "stdout",
     "output_type": "stream",
     "text": [
      "['Instagram', 'SOCIAL', '4.5', '66577313', 'Varies with device', '1,000,000,000+', 'Free', '0', 'Teen', 'Social', 'July 31, 2018', 'Varies with device', 'Varies with device']\n",
      "['Instagram', 'SOCIAL', '4.5', '66577446', 'Varies with device', '1,000,000,000+', 'Free', '0', 'Teen', 'Social', 'July 31, 2018', 'Varies with device', 'Varies with device']\n",
      "['Instagram', 'SOCIAL', '4.5', '66577313', 'Varies with device', '1,000,000,000+', 'Free', '0', 'Teen', 'Social', 'July 31, 2018', 'Varies with device', 'Varies with device']\n",
      "['Instagram', 'SOCIAL', '4.5', '66509917', 'Varies with device', '1,000,000,000+', 'Free', '0', 'Teen', 'Social', 'July 31, 2018', 'Varies with device', 'Varies with device']\n",
      "\n",
      "\n",
      "Number of duplicate apps: 1181\n",
      "\n",
      "\n",
      "Examples of duplicate apps: ['Quick PDF Scanner + OCR FREE', 'Box', 'Google My Business', 'ZOOM Cloud Meetings', 'join.me - Simple Meetings', 'Box', 'Zenefits', 'Google Ads', 'Google My Business', 'Slack']\n"
     ]
    }
   ],
   "source": [
    "#Displaying the duplicate rows for Instagram\n",
    "for row in google:\n",
    "    if row[0] == 'Instagram':\n",
    "        print(row)\n",
    "        \n",
    "#Finding the number of duplicate apps and storing the duplicate app names\n",
    "duplicate_apps = []\n",
    "unique_apps = []\n",
    "\n",
    "for row in google:\n",
    "    name = row[0]\n",
    "    if name in unique_apps:\n",
    "        duplicate_apps.append(name)\n",
    "    else:\n",
    "        unique_apps.append(name)\n",
    "\n",
    "print('\\n')\n",
    "print(\"Number of duplicate apps:\", len(duplicate_apps))\n",
    "print('\\n')\n",
    "print(\"Examples of duplicate apps:\", duplicate_apps[:10])"
   ]
  },
  {
   "cell_type": "code",
   "execution_count": 47,
   "id": "eba7f2fa",
   "metadata": {
    "scrolled": true
   },
   "outputs": [
    {
     "name": "stdout",
     "output_type": "stream",
     "text": [
      "['Photo Editor & Candy Camera & Grid & ScrapBook', 'ART_AND_DESIGN', '4.1', '159', '19M', '10,000+', 'Free', '0', 'Everyone', 'Art & Design', 'January 7, 2018', '1.0.0', '4.0.3 and up']\n",
      "\n",
      "\n",
      "['U Launcher Lite – FREE Live Cool Themes, Hide Apps', 'ART_AND_DESIGN', '4.7', '87510', '8.7M', '5,000,000+', 'Free', '0', 'Everyone', 'Art & Design', 'August 1, 2018', '1.2.4', '4.0.3 and up']\n",
      "\n",
      "\n",
      "['Sketch - Draw & Paint', 'ART_AND_DESIGN', '4.5', '215644', '25M', '50,000,000+', 'Free', '0', 'Teen', 'Art & Design', 'June 8, 2018', 'Varies with device', '4.2 and up']\n",
      "\n",
      "\n",
      "Number of rows: 9659\n",
      "Number of columns: 13\n"
     ]
    }
   ],
   "source": [
    "#Creating a dictionary of app names with the maximum number of reviews of all\n",
    "#rows with that name\n",
    "reviews_max = {}\n",
    "for row in google:\n",
    "    name = row[0]\n",
    "    n_reviews = float(row[3])\n",
    "    \n",
    "    #If the app name has already been observed and the current number of reviews\n",
    "    #is less than what is stored then, update the value in reviews_max to be\n",
    "    #that number of reviews, the new maximum\n",
    "    if name in reviews_max and reviews_max[name] < n_reviews:\n",
    "        reviews_max[name] = n_reviews\n",
    "    if name not in reviews_max:\n",
    "        reviews_max[name] = n_reviews\n",
    "\n",
    "#Initialize the new clean dataset\n",
    "google_clean = []\n",
    "#Storing just app names\n",
    "already_added = []\n",
    "\n",
    "for row in google:\n",
    "    name = row[0]\n",
    "    n_reviews = float(row[3])\n",
    "    \n",
    "    #If the number of reivews is the max for the the app name and that app has\n",
    "    #not already been added to the dataset (because two rows could have the\n",
    "    #same number of reviews), then add the row to the dataset and the name to\n",
    "    #the already_added list\n",
    "    if n_reviews == reviews_max[name] and name not in already_added:\n",
    "        google_clean.append(row)\n",
    "        already_added.append(name)\n",
    "        \n",
    "#Checking length and a few rows\n",
    "explore_data(google_clean, 0, 3, rows_and_columns = True)  "
   ]
  },
  {
   "cell_type": "markdown",
   "id": "3d83937a",
   "metadata": {},
   "source": [
    "### Removing non-English apps\n",
    "The target audience for the company we are working for is English-speaking. Therefore, we want to remove all apps that are targeted to an non-English-speaking audience."
   ]
  },
  {
   "cell_type": "code",
   "execution_count": 48,
   "id": "47097851",
   "metadata": {
    "scrolled": true
   },
   "outputs": [
    {
     "name": "stdout",
     "output_type": "stream",
     "text": [
      "True\n",
      "False\n",
      "True\n",
      "True\n"
     ]
    }
   ],
   "source": [
    "def detect_english(string):\n",
    "    \n",
    "    #Initialize number of non-english characters\n",
    "    n_non_english = 0\n",
    "    \n",
    "    #Iterate over the characters in the string and check if the number associated is greater than 127\n",
    "    #If it is, increase the number of non english characters in the string by 1\n",
    "    for c in string:\n",
    "        if ord(c) > 127:\n",
    "            n_non_english +=1\n",
    "            \n",
    "        #If at any point in the loop, the number of non english characters is greater than 3, stop and\n",
    "        #return false (could do this at the end, but prevents loop running more than necessary)\n",
    "        if n_non_english > 3:\n",
    "            return False\n",
    "        \n",
    "    #If the whole loop runs without returning False, return True (app is for an English speaking audience)\n",
    "    return True\n",
    "\n",
    "#Use these strings to test the function\n",
    "print(detect_english('Instagram'))\n",
    "print(detect_english('爱奇艺PPS -《欢乐颂2》电视剧热播'))\n",
    "print(detect_english('Docs To Go™ Free Office Suite'))\n",
    "print(detect_english('Instachat 😜'))"
   ]
  },
  {
   "cell_type": "code",
   "execution_count": 49,
   "id": "78087bfa",
   "metadata": {},
   "outputs": [
    {
     "name": "stdout",
     "output_type": "stream",
     "text": [
      "Apple Store Dataset English Only\n",
      "['', 'id', 'track_name', 'size_bytes', 'currency', 'price', 'rating_count_tot', 'rating_count_ver', 'user_rating', 'user_rating_ver', 'ver', 'cont_rating', 'prime_genre', 'sup_devices.num', 'ipadSc_urls.num', 'lang.num', 'vpp_lic']\n",
      "\n",
      "\n",
      "['1', '281656475', 'PAC-MAN Premium', '100788224', 'USD', '3.99', '21292', '26', '4', '4.5', '6.3.5', '4+', 'Games', '38', '5', '10', '1']\n",
      "\n",
      "\n",
      "Number of rows: 6183\n",
      "Number of columns: 17\n",
      "\n",
      "\n",
      "Google Play Dataset English Only\n",
      "['App', 'Category', 'Rating', 'Reviews', 'Size', 'Installs', 'Type', 'Price', 'Content Rating', 'Genres', 'Last Updated', 'Current Ver', 'Android Ver']\n",
      "\n",
      "\n",
      "['Photo Editor & Candy Camera & Grid & ScrapBook', 'ART_AND_DESIGN', '4.1', '159', '19M', '10,000+', 'Free', '0', 'Everyone', 'Art & Design', 'January 7, 2018', '1.0.0', '4.0.3 and up']\n",
      "\n",
      "\n",
      "Number of rows: 9614\n",
      "Number of columns: 13\n"
     ]
    }
   ],
   "source": [
    "#Creating separate datasets with just English apps\n",
    "\n",
    "#Initializing apple and google datasets\n",
    "apple_english = []\n",
    "google_english = []\n",
    "\n",
    "for row in apple:\n",
    "    #Check if the name is in English (\"track_name\" is index 2 in the apple dataset)\n",
    "    english = detect_english(row[2])\n",
    "    #If the name is english, add it to the dataset\n",
    "    if english == True:\n",
    "        apple_english.append(row)\n",
    "        \n",
    "for row in google_clean:\n",
    "    #Check if the name is in English (\"app\" is index 0 in the google dataset)\n",
    "    english = detect_english(row[0])\n",
    "    #If the name is english, add it to the dataset\n",
    "    if english == True:\n",
    "        google_english.append(row)\n",
    "\n",
    "#Exploring the two datasets\n",
    "print(\"Apple Store Dataset English Only\")\n",
    "print(apple_header)\n",
    "print(\"\\n\")\n",
    "explore_data(apple_english, 0, 1, rows_and_columns = True)\n",
    "print(\"\\n\")\n",
    "print(\"Google Play Dataset English Only\")\n",
    "print(google_header)\n",
    "print(\"\\n\")\n",
    "explore_data(google_english, 0, 1, rows_and_columns = True)"
   ]
  },
  {
   "cell_type": "markdown",
   "id": "f33c5d2c",
   "metadata": {},
   "source": [
    "### Removing apps that are not free\n",
    "The company we are reporting to is interested in free apps with in-app ads so we want to restrict our analysis to free apps."
   ]
  },
  {
   "cell_type": "code",
   "execution_count": 51,
   "id": "6ce802bd",
   "metadata": {
    "scrolled": true
   },
   "outputs": [
    {
     "name": "stdout",
     "output_type": "stream",
     "text": [
      "Apple Store Dataset Free English Only\n",
      "['', 'id', 'track_name', 'size_bytes', 'currency', 'price', 'rating_count_tot', 'rating_count_ver', 'user_rating', 'user_rating_ver', 'ver', 'cont_rating', 'prime_genre', 'sup_devices.num', 'ipadSc_urls.num', 'lang.num', 'vpp_lic']\n",
      "\n",
      "\n",
      "['2', '281796108', 'Evernote - stay organized', '158578688', 'USD', '0', '161065', '26', '4', '3.5', '8.2.2', '4+', 'Productivity', '37', '5', '23', '1']\n",
      "\n",
      "\n",
      "Number of rows: 3222\n",
      "Number of columns: 17\n",
      "\n",
      "\n",
      "Google Play Dataset Free English Only\n",
      "['App', 'Category', 'Rating', 'Reviews', 'Size', 'Installs', 'Type', 'Price', 'Content Rating', 'Genres', 'Last Updated', 'Current Ver', 'Android Ver']\n",
      "\n",
      "\n",
      "['Photo Editor & Candy Camera & Grid & ScrapBook', 'ART_AND_DESIGN', '4.1', '159', '19M', '10,000+', 'Free', '0', 'Everyone', 'Art & Design', 'January 7, 2018', '1.0.0', '4.0.3 and up']\n",
      "\n",
      "\n",
      "Number of rows: 8864\n",
      "Number of columns: 13\n"
     ]
    }
   ],
   "source": [
    "#Restricting to free apps\n",
    "\n",
    "#Initializing apple and google datasets\n",
    "apple_final = []\n",
    "google_final = []\n",
    "\n",
    "#Checking if price is \"0\" in apple dataset\n",
    "for row in apple_english:\n",
    "    price = row[5]\n",
    "    if price == \"0\":\n",
    "        apple_final.append(row)\n",
    "\n",
    "#Checking if price is \"Free\" in google dataset\n",
    "for row in google_english:\n",
    "    price = row[7]\n",
    "    if price == \"0\":\n",
    "        google_final.append(row)\n",
    "        \n",
    "#Exploring the two datasets\n",
    "print(\"Apple Store Dataset Free English Only\")\n",
    "print(apple_header)\n",
    "print(\"\\n\")\n",
    "explore_data(apple_final, 0, 1, rows_and_columns = True)\n",
    "print(\"\\n\")\n",
    "print(\"Google Play Dataset Free English Only\")\n",
    "print(google_header)\n",
    "print(\"\\n\")\n",
    "explore_data(google_final, 0, 1, rows_and_columns = True)"
   ]
  },
  {
   "cell_type": "markdown",
   "id": "4c390bf1",
   "metadata": {},
   "source": [
    "After our data cleaning, we are left with 8864 Android apps and 3222 iOS apps."
   ]
  },
  {
   "cell_type": "markdown",
   "id": "11e0f59e",
   "metadata": {},
   "source": [
    "## Analysis"
   ]
  },
  {
   "cell_type": "markdown",
   "id": "23a6cc39",
   "metadata": {},
   "source": [
    "The company's goal is to indentify apps that attact the most users. Their strategy for development is as follows:\n",
    "1. Build a minimal Android version of the app, and add it to Google Play.\n",
    "2. If the app has a good response from users, we develop it further.\n",
    "3. If the app is profitable after six months, we build an iOS version of the app and add it to the App Store.\n",
    "\n",
    "Becasuse they aim to have the app in both the Google Play store and the Apple Store, they want to make sure it appeals to both margets."
   ]
  },
  {
   "cell_type": "markdown",
   "id": "19d3f7dd",
   "metadata": {},
   "source": [
    "### Finding most common genres\n",
    "We are going to use the \"prime_genre\" column in the Apple dataset and the \"Genres\" and \"Category\" columns in the Google Play dataset to find the most common genres of apps in each market."
   ]
  },
  {
   "cell_type": "code",
   "execution_count": 65,
   "id": "d4a8371f",
   "metadata": {},
   "outputs": [],
   "source": [
    "#Function to create a frequency table and display the percentages\n",
    "def freq_table(dataset, index):\n",
    "    table = {}\n",
    "    total = 0\n",
    "    \n",
    "    #Buliding the dictionary\n",
    "    for row in dataset:\n",
    "        value = row[index]\n",
    "        if value in table:\n",
    "            table[value] += 1\n",
    "        else:\n",
    "            table[value] = 1\n",
    "        #Finding the total number of apps\n",
    "        total += 1\n",
    "\n",
    "    #Transforming to percentages\n",
    "    for i in table:\n",
    "        percentages = round(100 * (table[i] / total), 2)\n",
    "        table[i] = percentages\n",
    "        \n",
    "    return table\n",
    "\n",
    "#Function to display the frequency table on separate lines sorted by percentage\n",
    "def display_table(dataset, index):\n",
    "    table = freq_table(dataset, index)\n",
    "    table_display = []\n",
    "    for key in table:\n",
    "        key_val_as_tuple = (table[key], key)\n",
    "        table_display.append(key_val_as_tuple)\n",
    "\n",
    "    table_sorted = sorted(table_display, reverse = True)\n",
    "    for entry in table_sorted:\n",
    "        print(entry[1], ':', entry[0])"
   ]
  },
  {
   "cell_type": "markdown",
   "id": "10458e76",
   "metadata": {},
   "source": [
    "#### Apple genres"
   ]
  },
  {
   "cell_type": "code",
   "execution_count": 66,
   "id": "310cc512",
   "metadata": {},
   "outputs": [
    {
     "name": "stdout",
     "output_type": "stream",
     "text": [
      "Games : 58.16\n",
      "Entertainment : 7.88\n",
      "Photo & Video : 4.97\n",
      "Education : 3.66\n",
      "Social Networking : 3.29\n",
      "Shopping : 2.61\n",
      "Utilities : 2.51\n",
      "Sports : 2.14\n",
      "Music : 2.05\n",
      "Health & Fitness : 2.02\n",
      "Productivity : 1.74\n",
      "Lifestyle : 1.58\n",
      "News : 1.33\n",
      "Travel : 1.24\n",
      "Finance : 1.12\n",
      "Weather : 0.87\n",
      "Food & Drink : 0.81\n",
      "Reference : 0.56\n",
      "Business : 0.53\n",
      "Book : 0.43\n",
      "Navigation : 0.19\n",
      "Medical : 0.19\n",
      "Catalogs : 0.12\n"
     ]
    }
   ],
   "source": [
    "display_table(apple_final, 12)"
   ]
  },
  {
   "cell_type": "markdown",
   "id": "7ca59eb8",
   "metadata": {},
   "source": [
    "#### Google genres"
   ]
  },
  {
   "cell_type": "code",
   "execution_count": 67,
   "id": "fb585bd5",
   "metadata": {
    "scrolled": false
   },
   "outputs": [
    {
     "name": "stdout",
     "output_type": "stream",
     "text": [
      "FAMILY : 18.91\n",
      "GAME : 9.72\n",
      "TOOLS : 8.46\n",
      "BUSINESS : 4.59\n",
      "LIFESTYLE : 3.9\n",
      "PRODUCTIVITY : 3.89\n",
      "FINANCE : 3.7\n",
      "MEDICAL : 3.53\n",
      "SPORTS : 3.4\n",
      "PERSONALIZATION : 3.32\n",
      "COMMUNICATION : 3.24\n",
      "HEALTH_AND_FITNESS : 3.08\n",
      "PHOTOGRAPHY : 2.94\n",
      "NEWS_AND_MAGAZINES : 2.8\n",
      "SOCIAL : 2.66\n",
      "TRAVEL_AND_LOCAL : 2.34\n",
      "SHOPPING : 2.25\n",
      "BOOKS_AND_REFERENCE : 2.14\n",
      "DATING : 1.86\n",
      "VIDEO_PLAYERS : 1.79\n",
      "MAPS_AND_NAVIGATION : 1.4\n",
      "FOOD_AND_DRINK : 1.24\n",
      "EDUCATION : 1.16\n",
      "ENTERTAINMENT : 0.96\n",
      "LIBRARIES_AND_DEMO : 0.94\n",
      "AUTO_AND_VEHICLES : 0.93\n",
      "HOUSE_AND_HOME : 0.82\n",
      "WEATHER : 0.8\n",
      "EVENTS : 0.71\n",
      "PARENTING : 0.65\n",
      "ART_AND_DESIGN : 0.64\n",
      "COMICS : 0.62\n",
      "BEAUTY : 0.6\n",
      "\n",
      "\n",
      "Tools : 8.45\n",
      "Entertainment : 6.07\n",
      "Education : 5.35\n",
      "Business : 4.59\n",
      "Productivity : 3.89\n",
      "Lifestyle : 3.89\n",
      "Finance : 3.7\n",
      "Medical : 3.53\n",
      "Sports : 3.46\n",
      "Personalization : 3.32\n",
      "Communication : 3.24\n",
      "Action : 3.1\n",
      "Health & Fitness : 3.08\n",
      "Photography : 2.94\n",
      "News & Magazines : 2.8\n",
      "Social : 2.66\n",
      "Travel & Local : 2.32\n",
      "Shopping : 2.25\n",
      "Books & Reference : 2.14\n",
      "Simulation : 2.04\n",
      "Dating : 1.86\n",
      "Arcade : 1.85\n",
      "Video Players & Editors : 1.77\n",
      "Casual : 1.76\n",
      "Maps & Navigation : 1.4\n",
      "Food & Drink : 1.24\n",
      "Puzzle : 1.13\n",
      "Racing : 0.99\n",
      "Role Playing : 0.94\n",
      "Libraries & Demo : 0.94\n",
      "Auto & Vehicles : 0.93\n",
      "Strategy : 0.91\n",
      "House & Home : 0.82\n",
      "Weather : 0.8\n",
      "Events : 0.71\n",
      "Adventure : 0.68\n",
      "Comics : 0.61\n",
      "Beauty : 0.6\n",
      "Art & Design : 0.6\n",
      "Parenting : 0.5\n",
      "Card : 0.45\n",
      "Casino : 0.43\n",
      "Trivia : 0.42\n",
      "Educational;Education : 0.39\n",
      "Board : 0.38\n",
      "Educational : 0.37\n",
      "Education;Education : 0.34\n",
      "Word : 0.26\n",
      "Casual;Pretend Play : 0.24\n",
      "Music : 0.2\n",
      "Racing;Action & Adventure : 0.17\n",
      "Puzzle;Brain Games : 0.17\n",
      "Entertainment;Music & Video : 0.17\n",
      "Casual;Brain Games : 0.14\n",
      "Casual;Action & Adventure : 0.14\n",
      "Arcade;Action & Adventure : 0.12\n",
      "Action;Action & Adventure : 0.1\n",
      "Educational;Pretend Play : 0.09\n",
      "Simulation;Action & Adventure : 0.08\n",
      "Parenting;Education : 0.08\n",
      "Entertainment;Brain Games : 0.08\n",
      "Board;Brain Games : 0.08\n",
      "Parenting;Music & Video : 0.07\n",
      "Educational;Brain Games : 0.07\n",
      "Casual;Creativity : 0.07\n",
      "Art & Design;Creativity : 0.07\n",
      "Education;Pretend Play : 0.06\n",
      "Role Playing;Pretend Play : 0.05\n",
      "Education;Creativity : 0.05\n",
      "Role Playing;Action & Adventure : 0.03\n",
      "Puzzle;Action & Adventure : 0.03\n",
      "Entertainment;Creativity : 0.03\n",
      "Entertainment;Action & Adventure : 0.03\n",
      "Educational;Creativity : 0.03\n",
      "Educational;Action & Adventure : 0.03\n",
      "Education;Music & Video : 0.03\n",
      "Education;Brain Games : 0.03\n",
      "Education;Action & Adventure : 0.03\n",
      "Adventure;Action & Adventure : 0.03\n",
      "Video Players & Editors;Music & Video : 0.02\n",
      "Sports;Action & Adventure : 0.02\n",
      "Simulation;Pretend Play : 0.02\n",
      "Puzzle;Creativity : 0.02\n",
      "Music;Music & Video : 0.02\n",
      "Entertainment;Pretend Play : 0.02\n",
      "Casual;Education : 0.02\n",
      "Board;Action & Adventure : 0.02\n",
      "Video Players & Editors;Creativity : 0.01\n",
      "Trivia;Education : 0.01\n",
      "Travel & Local;Action & Adventure : 0.01\n",
      "Tools;Education : 0.01\n",
      "Strategy;Education : 0.01\n",
      "Strategy;Creativity : 0.01\n",
      "Strategy;Action & Adventure : 0.01\n",
      "Simulation;Education : 0.01\n",
      "Role Playing;Brain Games : 0.01\n",
      "Racing;Pretend Play : 0.01\n",
      "Puzzle;Education : 0.01\n",
      "Parenting;Brain Games : 0.01\n",
      "Music & Audio;Music & Video : 0.01\n",
      "Lifestyle;Pretend Play : 0.01\n",
      "Lifestyle;Education : 0.01\n",
      "Health & Fitness;Education : 0.01\n",
      "Health & Fitness;Action & Adventure : 0.01\n",
      "Entertainment;Education : 0.01\n",
      "Communication;Creativity : 0.01\n",
      "Comics;Creativity : 0.01\n",
      "Casual;Music & Video : 0.01\n",
      "Card;Action & Adventure : 0.01\n",
      "Books & Reference;Education : 0.01\n",
      "Art & Design;Pretend Play : 0.01\n",
      "Art & Design;Action & Adventure : 0.01\n",
      "Arcade;Pretend Play : 0.01\n",
      "Adventure;Education : 0.01\n"
     ]
    }
   ],
   "source": [
    "display_table(google_final, 1)\n",
    "print(\"\\n\")\n",
    "display_table(google_final, 9)"
   ]
  },
  {
   "cell_type": "markdown",
   "id": "7bd565a9",
   "metadata": {},
   "source": [
    "Of the Free, English apps in the Apple store, most of the games (more than half) are games. The second most popular category is Entertainment. In the Google Play store, the most popular category of free, English apps is \"FAMILY\" which is primarily kids games, then comes games and tools with very similar values. In general, the Apple store seems to have a greater proportion of games and the Google Play store, a greater proportion of practical apps. However, the number of apps available does not tell us which apps are the most popular. There could be many apps with low usership."
   ]
  },
  {
   "cell_type": "markdown",
   "id": "b690b7fb",
   "metadata": {},
   "source": [
    "### Finding the most popular apps\n",
    "We are going to use the \"Installs\" column in the Google Play dataset to find the genres that have the most installs. In the Apple dataset, we will use the \"rating_count_tot\" column to find the the genres that have the most ratings (as a proxy for installs since this information is not available."
   ]
  },
  {
   "cell_type": "markdown",
   "id": "e83f668f",
   "metadata": {},
   "source": [
    "#### Apple dataset"
   ]
  },
  {
   "cell_type": "code",
   "execution_count": 78,
   "id": "e7e7c299",
   "metadata": {
    "scrolled": true
   },
   "outputs": [
    {
     "name": "stdout",
     "output_type": "stream",
     "text": [
      "Productivity\n",
      "21028.41\n",
      "Weather\n",
      "52279.89\n",
      "Shopping\n",
      "26919.69\n",
      "Reference\n",
      "74942.11\n",
      "Finance\n",
      "31467.94\n",
      "Music\n",
      "57326.53\n",
      "Utilities\n",
      "18684.46\n",
      "Travel\n",
      "28243.8\n",
      "Social Networking\n",
      "71548.35\n",
      "Sports\n",
      "23008.9\n",
      "Health & Fitness\n",
      "23298.02\n",
      "Games\n",
      "22788.67\n",
      "Food & Drink\n",
      "33333.92\n",
      "News\n",
      "21248.02\n",
      "Book\n",
      "39758.5\n",
      "Photo & Video\n",
      "28441.54\n",
      "Entertainment\n",
      "14029.83\n",
      "Business\n",
      "7491.12\n",
      "Lifestyle\n",
      "16485.76\n",
      "Education\n",
      "7003.98\n",
      "Navigation\n",
      "86090.33\n",
      "Medical\n",
      "612.0\n",
      "Catalogs\n",
      "4004.0\n",
      "\n",
      "\n",
      "Bible : 985920\n",
      "Dictionary.com Dictionary & Thesaurus : 200047\n",
      "Dictionary.com Dictionary & Thesaurus for iPad : 54175\n",
      "Muslim Pro: Ramadan 2017 Prayer Times, Azan, Quran : 18418\n",
      "Merriam-Webster Dictionary : 16849\n",
      "Google Translate : 26786\n",
      "Night Sky : 12122\n",
      "WWDC : 762\n",
      "Jishokun-Japanese English Dictionary & Translator : 0\n",
      "教えて!goo : 0\n",
      "VPN Express : 14\n",
      "New Furniture Mods - Pocket Wiki & Game Tools for Minecraft PC Edition : 17588\n",
      "LUCKY BLOCK MOD ™ for Minecraft PC Edition - The Best Pocket Wiki & Mods Installer Tools : 4693\n",
      "Guides for Pokémon GO - Pokemon GO News and Cheats : 826\n",
      "Horror Maps for Minecraft PE - Download The Scariest Maps for Minecraft Pocket Edition (MCPE) Free : 718\n",
      "City Maps for Minecraft PE - The Best Maps for Minecraft Pocket Edition (MCPE) : 8535\n",
      "GUNS MODS for Minecraft PC Edition - Mods Tools : 1497\n",
      "Real Bike Traffic Rider Virtual Reality Glasses : 8\n"
     ]
    }
   ],
   "source": [
    "#Finding the different genres in the apple dataset (the keys in the frequency table dictionary)\n",
    "genre_dict = freq_table(apple_final, 12)\n",
    "\n",
    "for genre in genre_dict:\n",
    "    #Initiate the total number of apps in the genre\n",
    "    total_apps = 0\n",
    "    #Initiate the number of ratings\n",
    "    total_ratings = 0\n",
    "    \n",
    "    for row in apple_final:\n",
    "        app_genre = row[12]\n",
    "        #If the genre of this app matches the genre of our outer loop then update values\n",
    "        if app_genre == genre:\n",
    "            n_ratings = float(row[6])\n",
    "            total_ratings += n_ratings\n",
    "            total_apps += 1\n",
    "\n",
    "    #Finding the average number of ratings by per app in the genre\n",
    "    print(genre)\n",
    "    print(round(total_ratings / total_apps, 2))\n",
    "    \n",
    "#Exploring the reference category\n",
    "\n",
    "print(\"\\n\")\n",
    "for app in apple_final:\n",
    "    if app[12] == 'Reference':\n",
    "        print(app[2], ':', app[6])"
   ]
  },
  {
   "cell_type": "markdown",
   "id": "61bab00c",
   "metadata": {},
   "source": [
    "In the apple store, the genres that have the most ratings per app are \"Social Networking\", \"Navigation\", and \"Reference\". \"Music\" also has a high value of average ratings per app. However, I think that these results are skewed by the fact that these categories have extrodinarly popular apps that likely bias the averages (Facebook, Instagram, Google Maps, Bing, Apple Music, etc.) For someone building a brand new app, the popularity of these name-brand apps is not useful. Therefore this analysis would be better served by removing these outliers. Excluding those categories, \"Weather\" and \"Food and Drink\" are popular options that are less skewed by the popular outliers. The \"Reference\" category is skewed high because of the Bible app and Dictionary.com so that category could also have potential."
   ]
  },
  {
   "cell_type": "markdown",
   "id": "2728f3a5",
   "metadata": {},
   "source": [
    "#### Google Play Dataset"
   ]
  },
  {
   "cell_type": "code",
   "execution_count": 111,
   "id": "6d665e39",
   "metadata": {},
   "outputs": [
    {
     "name": "stdout",
     "output_type": "stream",
     "text": [
      "ART_AND_DESIGN\n",
      "1986335.09\n",
      "AUTO_AND_VEHICLES\n",
      "647317.82\n",
      "BEAUTY\n",
      "513151.89\n",
      "BOOKS_AND_REFERENCE\n",
      "8767811.89\n",
      "BUSINESS\n",
      "1712290.15\n",
      "COMICS\n",
      "817657.27\n",
      "COMMUNICATION\n",
      "38456119.17\n",
      "DATING\n",
      "854028.83\n",
      "EDUCATION\n",
      "1833495.15\n",
      "ENTERTAINMENT\n",
      "11640705.88\n",
      "EVENTS\n",
      "253542.22\n",
      "FINANCE\n",
      "1387692.48\n",
      "FOOD_AND_DRINK\n",
      "1924897.74\n",
      "HEALTH_AND_FITNESS\n",
      "4188821.99\n",
      "HOUSE_AND_HOME\n",
      "1331540.56\n",
      "LIBRARIES_AND_DEMO\n",
      "638503.73\n",
      "LIFESTYLE\n",
      "1437816.27\n",
      "GAME\n",
      "15588015.6\n",
      "FAMILY\n",
      "3695641.82\n",
      "MEDICAL\n",
      "120550.62\n",
      "SOCIAL\n",
      "23253652.13\n",
      "SHOPPING\n",
      "7036877.31\n",
      "PHOTOGRAPHY\n",
      "17840110.4\n",
      "SPORTS\n",
      "3638640.14\n",
      "TRAVEL_AND_LOCAL\n",
      "13984077.71\n",
      "TOOLS\n",
      "10801391.3\n",
      "PERSONALIZATION\n",
      "5201482.61\n",
      "PRODUCTIVITY\n",
      "16787331.34\n",
      "PARENTING\n",
      "542603.62\n",
      "WEATHER\n",
      "5074486.2\n",
      "VIDEO_PLAYERS\n",
      "24727872.45\n",
      "NEWS_AND_MAGAZINES\n",
      "9549178.47\n",
      "MAPS_AND_NAVIGATION\n",
      "4056941.77\n"
     ]
    }
   ],
   "source": [
    "#Finding the different genres in the google dataset (the keys in the frequency table dictionary)\n",
    "category_dict = freq_table(google_final, 1)\n",
    "\n",
    "for category in category_dict:\n",
    "    #Initiate the total number of apps in the genre\n",
    "    total_apps = 0\n",
    "    #Initiate the number of ratings\n",
    "    total_installs = 0\n",
    "    \n",
    "    for row in google_final:\n",
    "        app_category = row[1]\n",
    "        #If the genre of this app matches the genre of our outer loop then update values\n",
    "        if app_category == category:\n",
    "            n_installs = row[5]\n",
    "            n_installs = float(n_installs.replace(\"+\", \"\").replace(\",\", \"\"))\n",
    "            total_installs += n_installs\n",
    "            total_apps += 1\n",
    "\n",
    "    #Finding the average number of ratings by per app in the genre\n",
    "    print(category)\n",
    "    print(round(total_installs / total_apps, 2))"
   ]
  },
  {
   "cell_type": "markdown",
   "id": "c4150401",
   "metadata": {},
   "source": [
    "We see a similary pattern here, where the most popular genres are dominated by a few very popular apps. Again, the reference genre could be promising."
   ]
  }
 ],
 "metadata": {
  "kernelspec": {
   "display_name": "Python 3",
   "language": "python",
   "name": "python3"
  },
  "language_info": {
   "codemirror_mode": {
    "name": "ipython",
    "version": 3
   },
   "file_extension": ".py",
   "mimetype": "text/x-python",
   "name": "python",
   "nbconvert_exporter": "python",
   "pygments_lexer": "ipython3",
   "version": "3.8.8"
  }
 },
 "nbformat": 4,
 "nbformat_minor": 5
}
