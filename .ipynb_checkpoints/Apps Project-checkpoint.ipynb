{
 "cells": [
  {
   "cell_type": "markdown",
   "id": "f3f9f1d2",
   "metadata": {},
   "source": [
    "# Mobile Apps Analysis\n",
    "\n",
    "The goal of this project is to help developers understand what attracts users to particular apps to aid in developing more appealing apps. We will use a dataset of more than 7,000 apps from the Apple App Store in 2017 and more than 10,000 apps from the Google Play Store in 2018."
   ]
  },
  {
   "cell_type": "code",
   "execution_count": 7,
   "id": "e8b387f7",
   "metadata": {},
   "outputs": [
    {
     "name": "stdout",
     "output_type": "stream",
     "text": [
      "Apple Store Dataset\n",
      "['', 'id', 'track_name', 'size_bytes', 'currency', 'price', 'rating_count_tot', 'rating_count_ver', 'user_rating', 'user_rating_ver', 'ver', 'cont_rating', 'prime_genre', 'sup_devices.num', 'ipadSc_urls.num', 'lang.num', 'vpp_lic']\n",
      "\n",
      "\n",
      "['1', '281656475', 'PAC-MAN Premium', '100788224', 'USD', '3.99', '21292', '26', '4', '4.5', '6.3.5', '4+', 'Games', '38', '5', '10', '1']\n",
      "\n",
      "\n",
      "['2', '281796108', 'Evernote - stay organized', '158578688', 'USD', '0', '161065', '26', '4', '3.5', '8.2.2', '4+', 'Productivity', '37', '5', '23', '1']\n",
      "\n",
      "\n",
      "Number of rows: 7198\n",
      "Number of columns: 17\n",
      "\n",
      "\n",
      "Google Play Dataset\n",
      "['App', 'Category', 'Rating', 'Reviews', 'Size', 'Installs', 'Type', 'Price', 'Content Rating', 'Genres', 'Last Updated', 'Current Ver', 'Android Ver']\n",
      "\n",
      "\n",
      "['Photo Editor & Candy Camera & Grid & ScrapBook', 'ART_AND_DESIGN', '4.1', '159', '19M', '10,000+', 'Free', '0', 'Everyone', 'Art & Design', 'January 7, 2018', '1.0.0', '4.0.3 and up']\n",
      "\n",
      "\n",
      "['Coloring book moana', 'ART_AND_DESIGN', '3.9', '967', '14M', '500,000+', 'Free', '0', 'Everyone', 'Art & Design;Pretend Play', 'January 15, 2018', '2.0.0', '4.0.3 and up']\n",
      "\n",
      "\n",
      "Number of rows: 10842\n",
      "Number of columns: 13\n"
     ]
    }
   ],
   "source": [
    "#Function to read a csv and make it into a list of lists\n",
    "def open_file(file_name):\n",
    "    opened_file = open(file_name, encoding = 'utf8')\n",
    "    from csv import reader\n",
    "    read_file = reader(opened_file)\n",
    "    data = list(read_file)\n",
    "    return data\n",
    "\n",
    "#Function to neatly print a few rows of a dataset to examine it\n",
    "def explore_data(dataset, start, end, rows_and_columns=False):\n",
    "    dataset_slice = dataset[start:end]    \n",
    "    for row in dataset_slice:\n",
    "        print(row)\n",
    "        print('\\n') # adds a new (empty) line after each row\n",
    "\n",
    "    if rows_and_columns:\n",
    "        print('Number of rows:', len(dataset))\n",
    "        print('Number of columns:', len(dataset[0]))\n",
    "        \n",
    "#Reading in the Apple Store and Google Play datasets\n",
    "apple = open_file(\"AppleStore.csv\")\n",
    "google = open_file(\"googleplaystore.csv\")\n",
    "\n",
    "#Exploring the two datasets\n",
    "print(\"Apple Store Dataset\")\n",
    "explore_data(apple, 0, 3, rows_and_columns = True)\n",
    "print(\"\\n\")\n",
    "print(\"Google Play Dataset\")\n",
    "explore_data(google, 0, 3, rows_and_columns = True)"
   ]
  },
  {
   "cell_type": "markdown",
   "id": "68fcab77",
   "metadata": {},
   "source": [
    "### Documentation\n",
    "The code below prints out the column names for both of the datasets. For detailed documentation for the Apple Store dataset, see [this link](https://www.kaggle.com/ramamet4/app-store-apple-data-set-10k-apps); for the Google Play dataset, see [this link](https://www.kaggle.com/lava18/google-play-store-apps)."
   ]
  },
  {
   "cell_type": "code",
   "execution_count": 9,
   "id": "db25486a",
   "metadata": {},
   "outputs": [
    {
     "name": "stdout",
     "output_type": "stream",
     "text": [
      "Apple Store dataset columns\n",
      "['', 'id', 'track_name', 'size_bytes', 'currency', 'price', 'rating_count_tot', 'rating_count_ver', 'user_rating', 'user_rating_ver', 'ver', 'cont_rating', 'prime_genre', 'sup_devices.num', 'ipadSc_urls.num', 'lang.num', 'vpp_lic']\n",
      "\n",
      "\n",
      "Google Play dataset columns\n",
      "['App', 'Category', 'Rating', 'Reviews', 'Size', 'Installs', 'Type', 'Price', 'Content Rating', 'Genres', 'Last Updated', 'Current Ver', 'Android Ver']\n"
     ]
    }
   ],
   "source": [
    "#Printing the column names\n",
    "print(\"Apple Store dataset columns\")\n",
    "print(apple[0])\n",
    "print(\"\\n\")\n",
    "print(\"Google Play dataset columns\")\n",
    "print(google[0])"
   ]
  },
  {
   "cell_type": "code",
   "execution_count": null,
   "id": "c9ba46a4",
   "metadata": {},
   "outputs": [],
   "source": []
  }
 ],
 "metadata": {
  "kernelspec": {
   "display_name": "Python 3",
   "language": "python",
   "name": "python3"
  },
  "language_info": {
   "codemirror_mode": {
    "name": "ipython",
    "version": 3
   },
   "file_extension": ".py",
   "mimetype": "text/x-python",
   "name": "python",
   "nbconvert_exporter": "python",
   "pygments_lexer": "ipython3",
   "version": "3.8.8"
  }
 },
 "nbformat": 4,
 "nbformat_minor": 5
}
